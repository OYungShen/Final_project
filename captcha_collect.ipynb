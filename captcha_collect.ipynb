{
 "cells": [
  {
   "cell_type": "code",
   "execution_count": null,
   "metadata": {},
   "outputs": [],
   "source": [
    "from time import sleep\n",
    "import pandas as pd\n",
    "import requests\n",
    "import json\n",
    "from PIL import Image\n",
    "from base64 import b64encode,b64decode\n",
    "from io import BytesIO\n",
    "from bs4 import BeautifulSoup\n",
    "import threading\n",
    "from requests.adapters import HTTPAdapter"
   ]
  },
  {
   "cell_type": "code",
   "execution_count": null,
   "metadata": {},
   "outputs": [],
   "source": [
    "img_flag = False\n",
    "token_flag = False\n",
    "read_time = 20\n",
    "delay = 0.1\n",
    "s = requests.session()\n",
    "s.mount('http://', HTTPAdapter(max_retries=30))\n",
    "s.mount('https://', HTTPAdapter(max_retries=30))\n",
    "\n",
    "\n",
    "\n",
    "while token_flag == False:\n",
    "    try:\n",
    "        r =s.get(\"https://youthdream.phdf.org.tw/member/login\",timeout=read_time)\n",
    "        if r.status_code == 200:\n",
    "            soup = BeautifulSoup(r.text, 'html.parser')\n",
    "            _token = soup.select_one('input[name = \"_token\"]')['value']\n",
    "            token_flag = True\n",
    "        sleep(delay)\n",
    "    except:\n",
    "        None\n",
    "## get cpatcha_url\n",
    "_ = soup.select_one('a[id = \"captcha\"]').select_one('img')\n",
    "captcha_url = _[\"src\"]\n",
    "\n",
    "for i in range(1000,1003):\n",
    "    ## get captcha_img   \n",
    "    img_flag = False\n",
    "    while img_flag == False:\n",
    "        try:\n",
    "            cap_img =s.get(captcha_url,timeout=read_time)\n",
    "            if cap_img.status_code == 200:\n",
    "                image = Image.open(BytesIO(cap_img.content))\n",
    "                image = image.convert('RGB')\n",
    "                img_flag = True\n",
    "                image.save('./data/captcha_original/jpg/'+str(i)+'.jpg')\n",
    "        except:\n",
    "            None"
   ]
  },
  {
   "cell_type": "code",
   "execution_count": null,
   "metadata": {},
   "outputs": [],
   "source": [
    "import matplotlib.pyplot as plt\n",
    "%matplotlib inline\n",
    "\n",
    "#folder = \"5_trans_set/\"\n",
    "folder = \"5_captc_rel/\"\n",
    "\n",
    "filename_list = []\n",
    "for i in range(1000,1003):\n",
    "    print(i)\n",
    "    im = Image.open('./data/captcha_original/jpg/'+str(i)+'.jpg') \n",
    "    im = im.resize((160,60))\n",
    "    plt.imshow(im)\n",
    "    plt.show()\n",
    "    file_name = input()\n",
    "    im.save('./data/'+folder+file_name+'.jpg')\n",
    "    plt.clf()"
   ]
  },
  {
   "cell_type": "code",
   "execution_count": null,
   "metadata": {},
   "outputs": [],
   "source": []
  }
 ],
 "metadata": {
  "kernelspec": {
   "display_name": "Python 3",
   "language": "python",
   "name": "python3"
  },
  "language_info": {
   "codemirror_mode": {
    "name": "ipython",
    "version": 3
   },
   "file_extension": ".py",
   "mimetype": "text/x-python",
   "name": "python",
   "nbconvert_exporter": "python",
   "pygments_lexer": "ipython3",
   "version": "3.5.6"
  }
 },
 "nbformat": 4,
 "nbformat_minor": 2
}
